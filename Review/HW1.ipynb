{
 "cells": [
  {
   "cell_type": "markdown",
   "metadata": {},
   "source": [
    "#     CS 5661: Topics in Data Science\n",
    "\n",
    "# Homework 1: Due Data: Mon, Feb 26\n",
    "\n",
    "###    Author: Isaac Cano\n",
    "\n",
    "\n",
    "## Cancer Diagnosis Using Machine Learning "
   ]
  },
  {
   "cell_type": "markdown",
   "metadata": {},
   "source": [
    "# ____________________________________________________________________\n"
   ]
  },
  {
   "cell_type": "markdown",
   "metadata": {},
   "source": [
    "## Part 0: Importing the sklearn class, numpy, and pandas "
   ]
  },
  {
   "cell_type": "code",
   "execution_count": null,
   "metadata": {},
   "outputs": [],
   "source": [
    "from sklearn.tree import DecisionTreeClassifier\n",
    "from sklearn.model_selection import train_test_split\n",
    "from sklearn.ensemble import AdaBoostClassifier\n",
    "from sklearn.ensemble import RandomForestClassifier\n",
    "from sklearn.metrics import accuracy_score\n",
    "from sklearn.utils import resample\n",
    "import numpy as np\n",
    "import pandas as pd"
   ]
  },
  {
   "cell_type": "markdown",
   "metadata": {},
   "source": [
    "## Part a: "
   ]
  },
  {
   "cell_type": "code",
   "execution_count": null,
   "metadata": {},
   "outputs": [],
   "source": [
    "    # create a DataFrame from Cancer_small.csv\n",
    "    cancer_df = pd.read_csv('Cancer_small.csv')\n",
    "\n",
    "    # create a list of feature names from Start to End feature *exclusive\n",
    "    feature_cols = cancer_df.columns[0:-1]\n",
    "\n",
    "    # create a DataFrame from the selected features\n",
    "    X = cancer_df[feature_cols]\n",
    "    print(X)\n",
    "    \n",
    "    # create a DataFrame using the last column\n",
    "    y = cancer_df[cancer_df.columns[-1]]\n",
    "    print(y)"
   ]
  }
 ],
 "metadata": {
  "kernelspec": {
   "display_name": "Python 3",
   "language": "python",
   "name": "python3"
  },
  "language_info": {
   "codemirror_mode": {
    "name": "ipython",
    "version": 3
   },
   "file_extension": ".py",
   "mimetype": "text/x-python",
   "name": "python",
   "nbconvert_exporter": "python",
   "pygments_lexer": "ipython3",
   "version": "3.5.2"
  }
 },
 "nbformat": 4,
 "nbformat_minor": 2
}
