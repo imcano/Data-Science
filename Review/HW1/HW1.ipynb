{
 "cells": [
  {
   "cell_type": "markdown",
   "metadata": {},
   "source": [
    "#     CS 5661: Topics in Data Science\n",
    "\n",
    "# Homework 1: Due Data: Mon, Feb 26\n",
    "\n",
    "###    Author: Isaac Cano\n",
    "\n",
    "\n",
    "## Cancer Diagnosis Using Machine Learning "
   ]
  },
  {
   "cell_type": "markdown",
   "metadata": {},
   "source": [
    "# ___________________________________\n"
   ]
  },
  {
   "cell_type": "markdown",
   "metadata": {},
   "source": [
    "## Part 0: Importing the sklearn class, numpy, and\n",
    "## pandas "
   ]
  },
  {
   "cell_type": "code",
   "execution_count": 1,
   "metadata": {},
   "outputs": [],
   "source": [
    "from sklearn.tree import DecisionTreeClassifier\n",
    "from sklearn.model_selection import train_test_split\n",
    "from sklearn.ensemble import AdaBoostClassifier\n",
    "from sklearn.ensemble import RandomForestClassifier\n",
    "from sklearn.metrics import accuracy_score\n",
    "from sklearn.utils import resample\n",
    "import numpy as np\n",
    "import pandas as pd"
   ]
  },
  {
   "cell_type": "markdown",
   "metadata": {},
   "source": [
    "## Part a: Read and Save Cancer_small.csv it to a Pandas DataFrame.                                                            Setup the Feature Matrix and Label Dataset"
   ]
  },
  {
   "cell_type": "code",
   "execution_count": 2,
   "metadata": {},
   "outputs": [
    {
     "name": "stdout",
     "output_type": "stream",
     "text": [
      "     Clump_Thickness  Uniformity_of_Cell_Size  Uniformity_of_Cell_Shape  \\\n",
      "0                  5                        1                         1   \n",
      "1                  5                        4                         4   \n",
      "2                  3                        1                         1   \n",
      "3                  6                        8                         8   \n",
      "4                  4                        1                         1   \n",
      "5                  8                       10                        10   \n",
      "6                  1                        1                         1   \n",
      "7                  2                        1                         2   \n",
      "8                  2                        1                         1   \n",
      "9                  4                        2                         1   \n",
      "10                 5                        3                         3   \n",
      "11                 8                        7                         5   \n",
      "12                 7                        4                         6   \n",
      "13                10                        7                         7   \n",
      "14                 7                        3                         2   \n",
      "15                10                        5                         5   \n",
      "16                 8                        4                         5   \n",
      "17                 5                        2                         3   \n",
      "18                10                        7                         7   \n",
      "19                10                       10                        10   \n",
      "20                 5                        4                         4   \n",
      "21                 2                        5                         3   \n",
      "22                10                        4                         3   \n",
      "23                 6                       10                        10   \n",
      "24                 5                        6                         5   \n",
      "25                10                       10                        10   \n",
      "26                 3                        7                         7   \n",
      "27                 1                        1                         1   \n",
      "28                 4                        1                         1   \n",
      "29                 7                        8                         7   \n",
      "..               ...                      ...                       ...   \n",
      "120                8                        6                         5   \n",
      "121                5                        8                         7   \n",
      "122                2                        1                         1   \n",
      "123                5                       10                        10   \n",
      "124                4                        1                         1   \n",
      "125                5                        3                         3   \n",
      "126                1                        1                         1   \n",
      "127                1                        1                         1   \n",
      "128                6                        1                         1   \n",
      "129                5                        8                         8   \n",
      "130                8                        7                         6   \n",
      "131                2                        1                         1   \n",
      "132                1                        5                         8   \n",
      "133               10                        5                         6   \n",
      "134                5                        8                         4   \n",
      "135                1                        2                         3   \n",
      "136               10                       10                        10   \n",
      "137                7                        5                        10   \n",
      "138                5                        1                         1   \n",
      "139                1                        1                         1   \n",
      "140                3                        1                         1   \n",
      "141                4                        1                         1   \n",
      "142                8                        4                         4   \n",
      "143                5                        1                         1   \n",
      "144                1                        1                         1   \n",
      "145                3                        1                         1   \n",
      "146                9                        7                         7   \n",
      "147               10                        8                         8   \n",
      "148                1                        1                         1   \n",
      "149                5                        1                         1   \n",
      "\n",
      "     Marginal_Adhesion  Single_Epithelial_Cell_Size  Bare_Nuclei  \\\n",
      "0                    1                            2            1   \n",
      "1                    5                            7           10   \n",
      "2                    1                            2            2   \n",
      "3                    1                            3            4   \n",
      "4                    3                            2            1   \n",
      "5                    8                            7           10   \n",
      "6                    1                            2           10   \n",
      "7                    1                            2            1   \n",
      "8                    1                            2            1   \n",
      "9                    1                            2            1   \n",
      "10                   3                            2            3   \n",
      "11                  10                            7            9   \n",
      "12                   4                            6            1   \n",
      "13                   6                            4           10   \n",
      "14                  10                            5           10   \n",
      "15                   3                            6            7   \n",
      "16                   1                            2            7   \n",
      "17                   4                            2            7   \n",
      "18                   3                            8            5   \n",
      "19                   8                            6            1   \n",
      "20                   9                            2           10   \n",
      "21                   3                            6            7   \n",
      "22                   1                            3            3   \n",
      "23                   2                            8           10   \n",
      "24                   6                           10            1   \n",
      "25                   4                            8            1   \n",
      "26                   4                            4            9   \n",
      "27                   1                            2            1   \n",
      "28                   3                            2            1   \n",
      "29                   2                            4            8   \n",
      "..                 ...                          ...          ...   \n",
      "120                  4                            3           10   \n",
      "121                  7                           10           10   \n",
      "122                  1                            2            1   \n",
      "123                  3                            8            1   \n",
      "124                  1                            2            1   \n",
      "125                  3                            6           10   \n",
      "126                  1                            1            1   \n",
      "127                  1                            2            1   \n",
      "128                  1                            2            1   \n",
      "129                  8                            5           10   \n",
      "130                  4                            4           10   \n",
      "131                  1                            1            1   \n",
      "132                  6                            5            8   \n",
      "133                 10                            6           10   \n",
      "134                 10                            5            8   \n",
      "135                  1                            2            1   \n",
      "136                  8                            6            8   \n",
      "137                 10                           10           10   \n",
      "138                  1                            2            1   \n",
      "139                  1                            2            1   \n",
      "140                  1                            2            1   \n",
      "141                  1                            2            1   \n",
      "142                  5                            4            7   \n",
      "143                  4                            2            1   \n",
      "144                  1                            2            1   \n",
      "145                  1                            2            1   \n",
      "146                  5                            5           10   \n",
      "147                  4                           10           10   \n",
      "148                  1                            2            1   \n",
      "149                  1                            2            1   \n",
      "\n",
      "     Bland_Chromatin  Normal_Nucleoli  Mitoses  \n",
      "0                  3                1        1  \n",
      "1                  3                2        1  \n",
      "2                  3                1        1  \n",
      "3                  3                7        1  \n",
      "4                  3                1        1  \n",
      "5                  9                7        1  \n",
      "6                  3                1        1  \n",
      "7                  3                1        1  \n",
      "8                  1                1        5  \n",
      "9                  2                1        1  \n",
      "10                 4                4        1  \n",
      "11                 5                5        4  \n",
      "12                 4                3        1  \n",
      "13                 4                1        2  \n",
      "14                 5                4        4  \n",
      "15                 7               10        1  \n",
      "16                 7                3        1  \n",
      "17                 3                6        1  \n",
      "18                 7                4        3  \n",
      "19                 8                9        1  \n",
      "20                 5                6        1  \n",
      "21                 7                5        1  \n",
      "22                 6                5        2  \n",
      "23                 7                3        3  \n",
      "24                 3                1        1  \n",
      "25                 8               10        1  \n",
      "26                 4                8        1  \n",
      "27                 2                1        1  \n",
      "28                 3                1        1  \n",
      "29                 3                8        2  \n",
      "..               ...              ...      ...  \n",
      "120                6                1        1  \n",
      "121                5                7        1  \n",
      "122                3                1        1  \n",
      "123                5               10        3  \n",
      "124                3                1        1  \n",
      "125                3                1        1  \n",
      "126                3                1        1  \n",
      "127                1                1        1  \n",
      "128                3                1        1  \n",
      "129                7                8        1  \n",
      "130                5                1        1  \n",
      "131                3                1        1  \n",
      "132                7               10        1  \n",
      "133                7                7       10  \n",
      "134                9               10        1  \n",
      "135                3                1        1  \n",
      "136                7               10        1  \n",
      "137                4               10        3  \n",
      "138                2                1        1  \n",
      "139                3                1        1  \n",
      "140                3                1        1  \n",
      "141                3                1        1  \n",
      "142                7                8        2  \n",
      "143                3                1        1  \n",
      "144                1                1        1  \n",
      "145                2                1        1  \n",
      "146                7                8        3  \n",
      "147                8                1        1  \n",
      "148                3                1        1  \n",
      "149                3                1        1  \n",
      "\n",
      "[150 rows x 9 columns]\n",
      "/n\n",
      "0      0\n",
      "1      0\n",
      "2      0\n",
      "3      0\n",
      "4      0\n",
      "5      1\n",
      "6      0\n",
      "7      0\n",
      "8      0\n",
      "9      0\n",
      "10     1\n",
      "11     1\n",
      "12     1\n",
      "13     1\n",
      "14     1\n",
      "15     1\n",
      "16     1\n",
      "17     1\n",
      "18     1\n",
      "19     1\n",
      "20     1\n",
      "21     1\n",
      "22     1\n",
      "23     1\n",
      "24     1\n",
      "25     1\n",
      "26     1\n",
      "27     0\n",
      "28     0\n",
      "29     1\n",
      "      ..\n",
      "120    1\n",
      "121    1\n",
      "122    0\n",
      "123    1\n",
      "124    0\n",
      "125    1\n",
      "126    0\n",
      "127    0\n",
      "128    0\n",
      "129    1\n",
      "130    1\n",
      "131    0\n",
      "132    1\n",
      "133    1\n",
      "134    1\n",
      "135    0\n",
      "136    1\n",
      "137    1\n",
      "138    0\n",
      "139    0\n",
      "140    0\n",
      "141    0\n",
      "142    0\n",
      "143    0\n",
      "144    0\n",
      "145    0\n",
      "146    1\n",
      "147    1\n",
      "148    0\n",
      "149    0\n",
      "Name: Malignant_Cancer, Length: 150, dtype: int64\n"
     ]
    }
   ],
   "source": [
    "    # create a DataFrame from Cancer_small.csv\n",
    "    cancer_df = pd.read_csv('Cancer_small.csv')\n",
    "\n",
    "    # create a list of feature names from Start to End feature *exclusive\n",
    "    feature_cols = cancer_df.columns[0:-1]\n",
    "\n",
    "    # create a DataFrame from the selected features\n",
    "    X = cancer_df[feature_cols]\n",
    "    print(X)\n",
    "    \n",
    "    print('/n')\n",
    "    \n",
    "    # create a DataFrame using the last column\n",
    "    y = cancer_df[cancer_df.columns[-1]]\n",
    "    print(y)"
   ]
  },
  {
   "cell_type": "markdown",
   "metadata": {},
   "source": [
    "## Part b: Split the dataset into testing and training sets"
   ]
  },
  {
   "cell_type": "code",
   "execution_count": 3,
   "metadata": {},
   "outputs": [],
   "source": [
    "    # create testing and training DataFrames\n",
    "    X_train, X_test, y_train, y_test = train_test_split(X, y, test_size=0.3, random_state=2)"
   ]
  },
  {
   "cell_type": "markdown",
   "metadata": {},
   "source": [
    "## Part c: Use Decision Tree Classifier to predict Cancer"
   ]
  },
  {
   "cell_type": "code",
   "execution_count": 4,
   "metadata": {},
   "outputs": [
    {
     "data": {
      "text/plain": [
       "DecisionTreeClassifier(class_weight=None, criterion='gini', max_depth=None,\n",
       "            max_features=None, max_leaf_nodes=None,\n",
       "            min_impurity_decrease=0.0, min_impurity_split=None,\n",
       "            min_samples_leaf=1, min_samples_split=2,\n",
       "            min_weight_fraction_leaf=0.0, presort=False, random_state=2,\n",
       "            splitter='best')"
      ]
     },
     "execution_count": 4,
     "metadata": {},
     "output_type": "execute_result"
    }
   ],
   "source": [
    "    # create a decision tree classifier object\n",
    "    my_DecisionTree = DecisionTreeClassifier(random_state=2)\n",
    "\n",
    "    # use fit to train the model using the training dataset\n",
    "    my_DecisionTree.fit(X_train, y_train)"
   ]
  },
  {
   "cell_type": "markdown",
   "metadata": {},
   "source": [
    "### Predict the accuracy of the model"
   ]
  },
  {
   "cell_type": "code",
   "execution_count": 5,
   "metadata": {},
   "outputs": [
    {
     "name": "stdout",
     "output_type": "stream",
     "text": [
      "0.8666666666666667\n"
     ]
    }
   ],
   "source": [
    "    # use the model to predict the testing dataset\n",
    "    y_predict = my_DecisionTree.predict(X_test)\n",
    "    \n",
    "    # test the accuracy of the model \n",
    "    dt_score = accuracy_score(y_test, y_predict)\n",
    "    \n",
    "    # create a Pandas DataFrame to save the results \n",
    "    results = pd.DataFrame()\n",
    "    \n",
    "    # creates one column for results and one for predictions\n",
    "    results['actual'] = y_test\n",
    "    results['prediction'] = y_predict\n",
    "    \n",
    "    # prints accuracy score\n",
    "    print(dt_score)"
   ]
  },
  {
   "cell_type": "markdown",
   "metadata": {},
   "source": [
    "## Part d: Use Bootstrapping to predict Cancer"
   ]
  },
  {
   "cell_type": "code",
   "execution_count": 6,
   "metadata": {},
   "outputs": [],
   "source": [
    "    # create an array to record the results from each learner\n",
    "    b_results = []\n",
    "    \n",
    "    # for loop from 0 to 18\n",
    "    # 19 learners in total \n",
    "    for i in range(19):\n",
    "        # bootstrap_size holds the size of X_train times 0.8\n",
    "        bootstrap_size = 0.8 * (X_train.shape[0])\n",
    "        \n",
    "        # create two datasets\n",
    "        # B,c are both training sets\n",
    "        B, c = resample(X_train, y_train, n_samples=int(bootstrap_size), random_state=i, replace=True)\n",
    "        \n",
    "        # create a decision tree classifier object\n",
    "        Base_DecisionTree = DecisionTreeClassifier(random_state=2)\n",
    "        \n",
    "        # use fit to train the model using the training dataset\n",
    "        Base_DecisionTree.fit(B, c)\n",
    "        \n",
    "        # use the model to predict the testing dataset\n",
    "        c_predict = Base_DecisionTree.predict(X_test)\n",
    "        \n",
    "        # add learner's results to the b_results A.K.A. the list of results (for all learners)\n",
    "        b_results.append(c_predict)"
   ]
  },
  {
   "cell_type": "markdown",
   "metadata": {},
   "source": [
    "### Use voting to determine the results of the list of learner's answers"
   ]
  },
  {
   "cell_type": "code",
   "execution_count": 7,
   "metadata": {},
   "outputs": [],
   "source": [
    "    # col holds the column length of b_results\n",
    "    col = len(b_results[0])\n",
    "    \n",
    "    # row holds the row length of b_results\n",
    "    row = len(b_results)\n",
    "\n",
    "    # voting will hold the final answers for each patient\n",
    "    voting = []\n",
    "\n",
    "    # for loop iterates by column instead of by row\n",
    "    for i in range(col):\n",
    "        # variable holds a count of the votes per patient\n",
    "        vote_col = 0\n",
    "        for j in range(row):\n",
    "            # if the vote is 0 subtract 1\n",
    "            if b_results[j][i] == 0:\n",
    "                vote_col -= 1\n",
    "            # if the vote is 1 add one\n",
    "            else:\n",
    "                vote_col += 1\n",
    "        # if the vote is negative, 0 was the majority vote\n",
    "        if vote_col < 0:\n",
    "            vote_col = 0\n",
    "        # if the vote is positive, 1 was the majority vote\n",
    "        elif vote_col > 0:\n",
    "            vote_col = 1\n",
    "        \n",
    "        # add the majority vote (0 or 1) to the list of final answers\n",
    "        voting.append(vote_col)"
   ]
  },
  {
   "cell_type": "markdown",
   "metadata": {},
   "source": [
    "### Predict the accuracy of the model"
   ]
  },
  {
   "cell_type": "code",
   "execution_count": 8,
   "metadata": {},
   "outputs": [
    {
     "name": "stdout",
     "output_type": "stream",
     "text": [
      "0.9111111111111111\n"
     ]
    }
   ],
   "source": [
    "    # test the accuracy of the model \n",
    "    b_score = accuracy_score(y_test, voting)\n",
    "    \n",
    "    # create a Pandas DataFrame\n",
    "    bagging_results = pd.DataFrame()\n",
    "    \n",
    "    # creates one column for results and one for predictions\n",
    "    bagging_results['actual'] = y_test\n",
    "    bagging_results['prediction'] = voting\n",
    "    \n",
    "    # prints accuracy score\n",
    "    print(b_score)"
   ]
  },
  {
   "cell_type": "markdown",
   "metadata": {},
   "source": [
    "## Part e: Use Adaboost to determine Cancer"
   ]
  },
  {
   "cell_type": "code",
   "execution_count": 9,
   "metadata": {},
   "outputs": [
    {
     "name": "stdout",
     "output_type": "stream",
     "text": [
      "0.9333333333333333\n"
     ]
    }
   ],
   "source": [
    "    # create an AdaBoost Classifier object\n",
    "    my_AdaBoost = AdaBoostClassifier(n_estimators=19, random_state=2)\n",
    "    \n",
    "    # use fit to train the model using the training sets\n",
    "    my_AdaBoost.fit(X_train, y_train)\n",
    "\n",
    "    # use the model to predict the testing set\n",
    "    ab_predict = my_AdaBoost.predict(X_test)\n",
    "    \n",
    "    # test the accuracy of the model\n",
    "    ab_score = accuracy_score(y_test, ab_predict)\n",
    "    \n",
    "    # create a Pandas DataFrame\n",
    "    ab_results = pd.DataFrame()\n",
    "    \n",
    "    # creates one column for results and one for predictions\n",
    "    ab_results['actual'] = y_test\n",
    "    ab_results['prediction'] = ab_predict\n",
    "    \n",
    "    # prints accuracy score\n",
    "    print(ab_score)"
   ]
  },
  {
   "cell_type": "markdown",
   "metadata": {},
   "source": [
    "## Part f: Use Random Forest to determine Cancer"
   ]
  },
  {
   "cell_type": "code",
   "execution_count": 10,
   "metadata": {},
   "outputs": [
    {
     "name": "stdout",
     "output_type": "stream",
     "text": [
      "0.9555555555555556\n"
     ]
    }
   ],
   "source": [
    "    #create a Random Forest Classifier object\n",
    "    my_RandomForest = RandomForestClassifier(n_estimators=19, bootstrap=True, random_state=2)\n",
    "    \n",
    "    # use fit to train the model using the training sets\n",
    "    my_RandomForest.fit(X_train, y_train)\n",
    "    \n",
    "    # use the model to precit the tesing set\n",
    "    rf_predict = my_RandomForest.predict(X_test)\n",
    "    \n",
    "    # test the accuracy of the model\n",
    "    rf_score = accuracy_score(y_test, rf_predict)\n",
    "    \n",
    "    # create a Pandas DataFrame\n",
    "    rf_results = pd.DataFrame()\n",
    "    \n",
    "    # creates one column for results and one for the learner's predictions\n",
    "    rf_results['actual'] = y_test\n",
    "    rf_results['prediction'] = rf_predict\n",
    "    \n",
    "    # prints accuracy score\n",
    "    print(rf_score)"
   ]
  }
 ],
 "metadata": {
  "kernelspec": {
   "display_name": "Python 3",
   "language": "python",
   "name": "python3"
  },
  "language_info": {
   "codemirror_mode": {
    "name": "ipython",
    "version": 3
   },
   "file_extension": ".py",
   "mimetype": "text/x-python",
   "name": "python",
   "nbconvert_exporter": "python",
   "pygments_lexer": "ipython3",
   "version": "3.5.2"
  }
 },
 "nbformat": 4,
 "nbformat_minor": 2
}
